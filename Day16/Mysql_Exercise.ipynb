{
 "cells": [
  {
   "cell_type": "markdown",
   "id": "cbf12767",
   "metadata": {},
   "source": [
    "# Mysql Practice Exercise"
   ]
  },
  {
   "cell_type": "code",
   "execution_count": null,
   "id": "1afc19f6",
   "metadata": {},
   "outputs": [],
   "source": []
  },
  {
   "cell_type": "markdown",
   "id": "711f5d07",
   "metadata": {},
   "source": [
    "# 1. Write a query to find the third-highest salary from the EmpPosition table.\n",
    "\n",
    "```mysql\n",
    "SELECT TOP 1 salary\n",
    "FROM(\n",
    "SELECT TOP 3 salary\n",
    "FROM employee_table\n",
    "ORDER BY salary DESC) AS emp\n",
    "ORDER BY salary ASC;\n",
    "```"
   ]
  },
  {
   "cell_type": "markdown",
   "id": "7832e892",
   "metadata": {},
   "source": [
    "## 2.  Write a query to fetch top N records.\n",
    "\n",
    "```mysql\n",
    "SELECT * FROM EmpPosition ORDER BY Salary DESC LIMIT N;\n",
    "```"
   ]
  },
  {
   "cell_type": "markdown",
   "id": "4f42de96",
   "metadata": {},
   "source": [
    "## 3. Write a query to fetch the EmpFname from the EmployeeInfo table in upper case and use the ALIAS name as EmpName.\n",
    "```mysql\n",
    "\n",
    "SELECT UPPER(EmpFname) AS EmpName FROM EmployeeInfo;\n",
    "```"
   ]
  },
  {
   "cell_type": "markdown",
   "id": "298e0827",
   "metadata": {},
   "source": [
    "## 4. Write a query to fetch the number of employees working in the department ‘HR’.\n",
    "```mysql\n",
    "SELECT COUNT(*) FROM EmployeeInfo WHERE Department = 'HR';\n",
    "```"
   ]
  },
  {
   "cell_type": "markdown",
   "id": "4759007a",
   "metadata": {},
   "source": [
    "## 5. Write a query to get the current date.\n",
    "\n",
    "```mysql\n",
    "SELECT current_date();\n",
    "```"
   ]
  },
  {
   "cell_type": "markdown",
   "id": "31040604",
   "metadata": {},
   "source": [
    "## 6. Write a query to create a new table which consists of data and structure copied from the other table.\n",
    "\n",
    "```mysql\n",
    "## Using the SELECT INTO command:\n",
    "\n",
    "1. SELECT * INTO NewTable FROM EmployeeInfo WHERE 1 = 0;\n",
    "## Using the CREATE command in MySQL:\n",
    "\n",
    "2. CREATE TABLE NewTable AS SELECT * FROM EmployeeInfo;\n",
    "```"
   ]
  },
  {
   "cell_type": "markdown",
   "id": "e1eb85d5",
   "metadata": {},
   "source": [
    "## 7. Write q query to find all the employees whose salary is between 50000 to 100000.\n",
    "```mysql\n",
    "\n",
    "SELECT * FROM EmployeePosition WHERE Salary BETWEEN '50000' AND '100000';\n",
    "```"
   ]
  },
  {
   "cell_type": "markdown",
   "id": "b1a0bd91",
   "metadata": {},
   "source": [
    "## 8. Write a query to find the names of employees that begin with ‘S’\n",
    "\n",
    "```mysql\n",
    "SELECT * FROM EmployeeInfo WHERE EmpFname LIKE 'S%';\n",
    "\n",
    "```"
   ]
  },
  {
   "cell_type": "markdown",
   "id": "6a1534b0",
   "metadata": {},
   "source": [
    "## 9. Write a query to retrieve the EmpFname and EmpLname in a single column as “FullName”. The first name and the last name must be separated with space.\n",
    "\n",
    "```mysql\n",
    "SELECT CONCAT(EmpFname, ' ', EmpLname) AS 'FullName' FROM EmployeeInfo;\n",
    "```"
   ]
  },
  {
   "cell_type": "markdown",
   "id": "ae34df36",
   "metadata": {},
   "source": [
    "##  10. Write a query to fetch details of employees whose EmpLname ends with an alphabet ‘A’ and contains five alphabets.\n",
    "\n",
    "```mysql\n",
    "SELECT * FROM EmployeeInfo WHERE EmpLname LIKE '____a';\n",
    "\n",
    "```"
   ]
  },
  {
   "cell_type": "markdown",
   "id": "a1662866",
   "metadata": {},
   "source": [
    "## 11. Write a query to fetch all employees who also hold the managerial position.\n",
    "\n",
    "```mysql\n",
    "\n",
    "SELECT E.EmpFname, E.EmpLname, P.EmpPosition \n",
    "FROM EmployeeInfo E \n",
    "INNER JOIN EmployeePosition P \n",
    "ON\n",
    "E.EmpID = P.EmpID \n",
    "AND \n",
    "P.EmpPosition IN ('Manager');\n",
    "\n",
    "```"
   ]
  },
  {
   "cell_type": "markdown",
   "id": "d08b658f",
   "metadata": {},
   "source": [
    "## 12. Write a query to fetch the department-wise count of employees sorted by department’s count in ascending order.\n",
    "```mysql\n",
    "\n",
    "SELECT Department, count(EmpID) AS EmpDeptCount \n",
    "FROM EmployeeInfo GROUP BY Department \n",
    "ORDER BY EmpDeptCount ASC;\n",
    "```"
   ]
  },
  {
   "cell_type": "markdown",
   "id": "15e6b680",
   "metadata": {},
   "source": [
    "## 13. Write a query to calculate the even and odd records from a table.\n",
    "\n",
    "```mysql\n",
    "SELECT EmpID FROM (SELECT rowno, EmpID from EmployeeInfo) WHERE MOD(rowno,2)=0;\n",
    "\n",
    "## odd\n",
    "SELECT EmpID FROM (SELECT rowno, EmpID from EmployeeInfo) WHERE MOD(rowno,2)=1;\n",
    "```"
   ]
  },
  {
   "cell_type": "markdown",
   "id": "c2d52323",
   "metadata": {},
   "source": [
    "## 14. Write a query to retrieve duplicate records from a table.\n",
    "\n",
    "```mysql\n",
    "SELECT EmpID, EmpFname, Department COUNT(*) \n",
    "FROM EmployeeInfo GROUP BY EmpID, EmpFname, Department \n",
    "HAVING COUNT(*) > 1;\n",
    "```"
   ]
  },
  {
   "cell_type": "markdown",
   "id": "0953b8b9",
   "metadata": {},
   "source": [
    "## 15. Write a query to retrieve the list of employees working in the same department.\n",
    "```mysql\n",
    "\n",
    "Select DISTINCT E.EmpID, E.EmpFname, E.Department \n",
    "FROM EmployeeInfo E, Employee E1 \n",
    "WHERE E.Department = E1.Department AND E.EmpID != E1.EmpID;\n",
    "```"
   ]
  },
  {
   "cell_type": "markdown",
   "id": "f3c86500",
   "metadata": {},
   "source": [
    "## 16. Write a query to display the first and the last record from the EmployeeInfo table.\n",
    "```mysql\n",
    "SELECT * FROM EmployeeInfo WHERE EmpID = (SELECT MIN(EmpID) FROM EmployeeInfo);\n",
    "```"
   ]
  },
  {
   "cell_type": "markdown",
   "id": "1d0e7ef9",
   "metadata": {},
   "source": [
    "## 17. Write a query to retrieve EmpPostion along with total salaries paid for each of them.\n",
    "\n",
    "```mysql\n",
    "SELECT EmpPosition, SUM(Salary) from EmployeePosition GROUP BY EmpPosition;\n",
    "```"
   ]
  },
  {
   "cell_type": "markdown",
   "id": "27f250cb",
   "metadata": {},
   "source": [
    "## 18. Write a query to fetch 50% records from the EmployeeInfo table.\n",
    "\n",
    "```mysql\n",
    "SELECT * FROM EmployeeInfo WHERE EmpID <= (SELECT COUNT(EmpID)/2 from EmployeeInfo);\n",
    "```"
   ]
  },
  {
   "cell_type": "markdown",
   "id": "d81ca803",
   "metadata": {},
   "source": [
    "## 19. Write a query to fetch the department-wise count of employees sorted by department’s count in ascending order.\n",
    "\n",
    "```mysql\n",
    "SELECT Department, count(EmpID) AS EmpDeptCount \n",
    "FROM EmployeeInfo GROUP BY Department \n",
    "ORDER BY EmpDeptCount ASC;\n",
    "```"
   ]
  },
  {
   "cell_type": "markdown",
   "id": "46ffd63e",
   "metadata": {},
   "source": [
    "## 20. Write a query find number of employees whose DOB is between 02/05/1970 to 31/12/1975 and are grouped according to gender\n",
    "\n",
    "```mysql\n",
    "SELECT COUNT(*), Gender FROM EmployeeInfo WHERE DOB BETWEEN '02/05/1970 ' AND '31/12/1975' GROUP BY Gender;\n",
    "```"
   ]
  },
  {
   "cell_type": "code",
   "execution_count": null,
   "id": "0f64fb4e",
   "metadata": {},
   "outputs": [],
   "source": []
  }
 ],
 "metadata": {
  "kernelspec": {
   "display_name": "Python 3 (ipykernel)",
   "language": "python",
   "name": "python3"
  },
  "language_info": {
   "codemirror_mode": {
    "name": "ipython",
    "version": 3
   },
   "file_extension": ".py",
   "mimetype": "text/x-python",
   "name": "python",
   "nbconvert_exporter": "python",
   "pygments_lexer": "ipython3",
   "version": "3.11.3"
  }
 },
 "nbformat": 4,
 "nbformat_minor": 5
}
